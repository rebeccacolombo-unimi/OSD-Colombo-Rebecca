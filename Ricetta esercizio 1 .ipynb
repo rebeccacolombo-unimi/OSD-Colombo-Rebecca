{
 "cells": [
  {
   "cell_type": "markdown",
   "metadata": {},
   "source": [
    "# Ricette: Tagliatelle ai funghi porcini"
   ]
  },
  {
   "cell_type": "markdown",
   "metadata": {},
   "source": [
    "## INGREDIENTI PER LA PASTA FRESCA\n",
    "- Farina **200 g**\n",
    "- Uova fresche **120 g** \n",
    "- per spolverizzare q.b.\n"
   ]
  },
  {
   "cell_type": "markdown",
   "metadata": {},
   "source": [
    "## INGREDIENTI PER CONDIRE\n",
    "- Funghi porcini **500 g**\n",
    "- Burro **50 g**\n",
    "- Olio extravergine oliva **35 g**\n",
    "- Sale fino q.b.\n",
    "- Aglio **1 spicchio**\n",
    "- Prezzemolo **1 ciuffo**\n",
    "- Pepe nero q.b."
   ]
  }
 ],
 "metadata": {
  "kernelspec": {
   "display_name": "Python 3",
   "language": "python",
   "name": "python3"
  },
  "language_info": {
   "codemirror_mode": {
    "name": "ipython",
    "version": 3
   },
   "file_extension": ".py",
   "mimetype": "text/x-python",
   "name": "python",
   "nbconvert_exporter": "python",
   "pygments_lexer": "ipython3",
   "version": "3.8.3"
  }
 },
 "nbformat": 4,
 "nbformat_minor": 4
}
