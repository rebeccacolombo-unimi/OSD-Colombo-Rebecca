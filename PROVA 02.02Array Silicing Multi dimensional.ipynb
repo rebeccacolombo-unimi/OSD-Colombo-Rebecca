{
 "cells": [
  {
   "cell_type": "markdown",
   "metadata": {},
   "source": [
    "# ESERCIZIO PROVA - Lezione del 08-10 (SLIDE 5)\n",
    "## Multi-dimensional subarrays\n",
    "\n",
    "Creare un array es2a di valori casuali interi (randint) di dimensione 4x6, con\n",
    "valore massimo (incluso) uguale a 15:"
   ]
  },
  {
   "cell_type": "code",
   "execution_count": 3,
   "metadata": {
    "collapsed": false,
    "jupyter": {
     "outputs_hidden": false
    }
   },
   "outputs": [
    {
     "data": {
      "text/plain": [
       "array([[ 9, 14, 10,  9, 13, 14],\n",
       "       [14, 14, 15, 14, 12, 12],\n",
       "       [ 9, 15,  5,  4, 15,  8],\n",
       "       [14, 12, 11,  5, 12,  9]])"
      ]
     },
     "execution_count": 3,
     "metadata": {},
     "output_type": "execute_result"
    }
   ],
   "source": [
    "import numpy as np\n",
    "\n",
    "es2a = np.random.randint(16, size=(4,6))\n",
    "es2a"
   ]
  },
  {
   "cell_type": "markdown",
   "metadata": {
    "jupyter": {
     "outputs_hidden": false
    }
   },
   "source": [
    "1. prime tre righe, prime tre colonne\n",
    "2. seconda e terza riga, quarta, quinta e sesta colonna\n",
    "3. elementi dopo il terzo elemento\n",
    "4. invertire l’ordine delle sole righe; invertire l’ordine delle sole colonne"
   ]
  },
  {
   "cell_type": "code",
   "execution_count": 4,
   "metadata": {
    "collapsed": false,
    "jupyter": {
     "outputs_hidden": false
    }
   },
   "outputs": [
    {
     "data": {
      "text/plain": [
       "array([[ 9, 14, 10],\n",
       "       [14, 14, 15],\n",
       "       [ 9, 15,  5]])"
      ]
     },
     "execution_count": 4,
     "metadata": {},
     "output_type": "execute_result"
    }
   ],
   "source": [
    "#punto1\n",
    "es2a[:3, :3]"
   ]
  },
  {
   "cell_type": "code",
   "execution_count": 7,
   "metadata": {
    "collapsed": false,
    "jupyter": {
     "outputs_hidden": false
    }
   },
   "outputs": [
    {
     "data": {
      "text/plain": [
       "array([[14, 12, 12],\n",
       "       [ 4, 15,  8]])"
      ]
     },
     "execution_count": 7,
     "metadata": {},
     "output_type": "execute_result"
    }
   ],
   "source": [
    "#punto2\n",
    "es2a[1:3, 3:6]"
   ]
  },
  {
   "cell_type": "code",
   "execution_count": 8,
   "metadata": {},
   "outputs": [
    {
     "data": {
      "text/plain": [
       "array([[ 5, 12,  9]])"
      ]
     },
     "execution_count": 8,
     "metadata": {},
     "output_type": "execute_result"
    }
   ],
   "source": [
    "#punto3\n",
    "es2a[3:, 3:]"
   ]
  },
  {
   "cell_type": "code",
   "execution_count": 11,
   "metadata": {},
   "outputs": [
    {
     "name": "stdout",
     "output_type": "stream",
     "text": [
      "Array non invertito: \n",
      " [[ 9 14 10  9 13 14]\n",
      " [14 14 15 14 12 12]\n",
      " [ 9 15  5  4 15  8]\n",
      " [14 12 11  5 12  9]] \n",
      "\n",
      "Inverto le righe: \n",
      " [[14 12 11  5 12  9]\n",
      " [ 9 15  5  4 15  8]\n",
      " [14 14 15 14 12 12]\n",
      " [ 9 14 10  9 13 14]] \n",
      "\n",
      "Inverto le colonne: \n",
      " [[14 13  9 10 14  9]\n",
      " [12 12 14 15 14 14]\n",
      " [ 8 15  4  5 15  9]\n",
      " [ 9 12  5 11 12 14]] \n",
      "\n"
     ]
    }
   ],
   "source": [
    "#punto4 (\"\\n\" significa l'invio altrimenti viene tutto attaccato)\n",
    "print(\"Array non invertito: \\n\", es2a, \"\\n\")\n",
    "print(\"Inverto le righe: \\n\", es2a[::-1,:], \"\\n\")\n",
    "print(\"Inverto le colonne: \\n\", es2a[:, ::-1], \"\\n\")"
   ]
  },
  {
   "cell_type": "markdown",
   "metadata": {},
   "source": [
    "Creare un array es2b di valori casuali interi (randint) composto da due subarray di dimensione 5x5,\n",
    "con valore massimo (incluso) uguale a 30."
   ]
  },
  {
   "cell_type": "code",
   "execution_count": 13,
   "metadata": {},
   "outputs": [
    {
     "data": {
      "text/plain": [
       "array([[[ 4, 24, 28, 18,  6],\n",
       "        [14, 29, 17,  2, 17],\n",
       "        [23, 11, 30,  3, 25],\n",
       "        [26, 19, 20, 12, 16],\n",
       "        [20, 17, 20,  9, 21]],\n",
       "\n",
       "       [[26, 14, 13, 27,  3],\n",
       "        [14,  7,  6,  0, 17],\n",
       "        [15, 28,  9, 14,  1],\n",
       "        [ 5, 25, 25,  1, 25],\n",
       "        [29, 14, 23, 13,  3]]])"
      ]
     },
     "execution_count": 13,
     "metadata": {},
     "output_type": "execute_result"
    }
   ],
   "source": [
    "es2b = np.random.randint(31, size=(2,5,5))\n",
    "es2b"
   ]
  },
  {
   "cell_type": "markdown",
   "metadata": {},
   "source": [
    "1. selezionare il primo subarray, da quello le prime 2 righe e le colonne dalla seconda\n",
    "alla quarta.\n",
    "2. selezionare da entrambi i subarray le prime due righe e prime due colonne e\n",
    "invertire righe e colonne"
   ]
  },
  {
   "cell_type": "code",
   "execution_count": 17,
   "metadata": {},
   "outputs": [
    {
     "data": {
      "text/plain": [
       "array([[[24, 28, 18],\n",
       "        [29, 17,  2]]])"
      ]
     },
     "execution_count": 17,
     "metadata": {},
     "output_type": "execute_result"
    }
   ],
   "source": [
    "#punto1\n",
    "es2b[:1,:2,1:4]"
   ]
  },
  {
   "cell_type": "code",
   "execution_count": 18,
   "metadata": {},
   "outputs": [
    {
     "name": "stdout",
     "output_type": "stream",
     "text": [
      "Subarray 2x2 non invertiti: \n",
      " [[[ 4 24]\n",
      "  [14 29]]\n",
      "\n",
      " [[26 14]\n",
      "  [14  7]]] \n",
      "\n",
      "Inverto le righe: \n",
      " [[[14 29]\n",
      "  [ 4 24]]\n",
      "\n",
      " [[14  7]\n",
      "  [26 14]]] \n",
      "\n",
      "Inverto le colonne: \n",
      " [[[24  4]\n",
      "  [29 14]]\n",
      "\n",
      " [[14 26]\n",
      "  [ 7 14]]] \n",
      "\n",
      "Inverto righe e colonne:\n",
      " [[[29 14]\n",
      "  [24  4]]\n",
      "\n",
      " [[ 7 14]\n",
      "  [14 26]]] \n",
      "\n"
     ]
    }
   ],
   "source": [
    "#punto2\n",
    "a=es2b[:,:2,:2]\n",
    "print(\"Subarray 2x2 non invertiti: \\n\", a, \"\\n\")\n",
    "print(\"Inverto le righe: \\n\", a[:, ::-1, :], \"\\n\")\n",
    "print(\"Inverto le colonne: \\n\", a[:, :, ::-1], \"\\n\")\n",
    "print(\"Inverto righe e colonne:\\n\", a[:, ::-1, ::-1], \"\\n\")"
   ]
  }
 ],
 "metadata": {
  "anaconda-cloud": {},
  "kernelspec": {
   "display_name": "Python 3",
   "language": "python",
   "name": "python3"
  },
  "language_info": {
   "codemirror_mode": {
    "name": "ipython",
    "version": 3
   },
   "file_extension": ".py",
   "mimetype": "text/x-python",
   "name": "python",
   "nbconvert_exporter": "python",
   "pygments_lexer": "ipython3",
   "version": "3.8.3"
  }
 },
 "nbformat": 4,
 "nbformat_minor": 4
}
